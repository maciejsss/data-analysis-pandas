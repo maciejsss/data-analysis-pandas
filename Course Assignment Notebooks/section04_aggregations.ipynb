{
 "cells": [
  {
   "cell_type": "code",
   "execution_count": 3,
   "id": "42bfbe20",
   "metadata": {},
   "outputs": [],
   "source": [
    "import numpy as np\n",
    "import pandas as pd"
   ]
  },
  {
   "cell_type": "markdown",
   "id": "71a0a3e6",
   "metadata": {},
   "source": [
    "# Assignment 1: Groupby\n",
    "\n",
    "Can you return a table containing the top 10 stores by total transactions in the data?\n",
    "\n",
    "Make sure they’re sorted from highest to lowest.\n",
    "\n",
    "Thanks!"
   ]
  },
  {
   "cell_type": "code",
   "execution_count": 4,
   "id": "c52e4a31",
   "metadata": {},
   "outputs": [
    {
     "data": {
      "text/html": [
       "<div>\n",
       "<style scoped>\n",
       "    .dataframe tbody tr th:only-of-type {\n",
       "        vertical-align: middle;\n",
       "    }\n",
       "\n",
       "    .dataframe tbody tr th {\n",
       "        vertical-align: top;\n",
       "    }\n",
       "\n",
       "    .dataframe thead th {\n",
       "        text-align: right;\n",
       "    }\n",
       "</style>\n",
       "<table border=\"1\" class=\"dataframe\">\n",
       "  <thead>\n",
       "    <tr style=\"text-align: right;\">\n",
       "      <th></th>\n",
       "      <th>date</th>\n",
       "      <th>store_nbr</th>\n",
       "      <th>transactions</th>\n",
       "    </tr>\n",
       "  </thead>\n",
       "  <tbody>\n",
       "    <tr>\n",
       "      <th>0</th>\n",
       "      <td>2013-01-01</td>\n",
       "      <td>25</td>\n",
       "      <td>770</td>\n",
       "    </tr>\n",
       "    <tr>\n",
       "      <th>1</th>\n",
       "      <td>2013-01-02</td>\n",
       "      <td>1</td>\n",
       "      <td>2111</td>\n",
       "    </tr>\n",
       "    <tr>\n",
       "      <th>2</th>\n",
       "      <td>2013-01-02</td>\n",
       "      <td>2</td>\n",
       "      <td>2358</td>\n",
       "    </tr>\n",
       "    <tr>\n",
       "      <th>3</th>\n",
       "      <td>2013-01-02</td>\n",
       "      <td>3</td>\n",
       "      <td>3487</td>\n",
       "    </tr>\n",
       "    <tr>\n",
       "      <th>4</th>\n",
       "      <td>2013-01-02</td>\n",
       "      <td>4</td>\n",
       "      <td>1922</td>\n",
       "    </tr>\n",
       "  </tbody>\n",
       "</table>\n",
       "</div>"
      ],
      "text/plain": [
       "        date  store_nbr  transactions\n",
       "0 2013-01-01         25           770\n",
       "1 2013-01-02          1          2111\n",
       "2 2013-01-02          2          2358\n",
       "3 2013-01-02          3          3487\n",
       "4 2013-01-02          4          1922"
      ]
     },
     "execution_count": 4,
     "metadata": {},
     "output_type": "execute_result"
    }
   ],
   "source": [
    "# Read in transactions data -- parse dates specified here for help with later problem\n",
    "\n",
    "transactions = pd.read_csv(\"../retail/transactions.csv\", parse_dates=[\"date\"])\n",
    "\n",
    "transactions.head()"
   ]
  },
  {
   "cell_type": "code",
   "execution_count": 13,
   "id": "58e14f99",
   "metadata": {},
   "outputs": [
    {
     "data": {
      "text/html": [
       "<div>\n",
       "<style scoped>\n",
       "    .dataframe tbody tr th:only-of-type {\n",
       "        vertical-align: middle;\n",
       "    }\n",
       "\n",
       "    .dataframe tbody tr th {\n",
       "        vertical-align: top;\n",
       "    }\n",
       "\n",
       "    .dataframe thead th {\n",
       "        text-align: right;\n",
       "    }\n",
       "</style>\n",
       "<table border=\"1\" class=\"dataframe\">\n",
       "  <thead>\n",
       "    <tr style=\"text-align: right;\">\n",
       "      <th></th>\n",
       "      <th>transactions</th>\n",
       "    </tr>\n",
       "    <tr>\n",
       "      <th>store_nbr</th>\n",
       "      <th></th>\n",
       "    </tr>\n",
       "  </thead>\n",
       "  <tbody>\n",
       "    <tr>\n",
       "      <th>44</th>\n",
       "      <td>7273093</td>\n",
       "    </tr>\n",
       "    <tr>\n",
       "      <th>47</th>\n",
       "      <td>6535810</td>\n",
       "    </tr>\n",
       "    <tr>\n",
       "      <th>45</th>\n",
       "      <td>6201115</td>\n",
       "    </tr>\n",
       "    <tr>\n",
       "      <th>46</th>\n",
       "      <td>5990113</td>\n",
       "    </tr>\n",
       "    <tr>\n",
       "      <th>3</th>\n",
       "      <td>5366350</td>\n",
       "    </tr>\n",
       "    <tr>\n",
       "      <th>48</th>\n",
       "      <td>5107785</td>\n",
       "    </tr>\n",
       "    <tr>\n",
       "      <th>8</th>\n",
       "      <td>4637971</td>\n",
       "    </tr>\n",
       "    <tr>\n",
       "      <th>49</th>\n",
       "      <td>4574103</td>\n",
       "    </tr>\n",
       "    <tr>\n",
       "      <th>50</th>\n",
       "      <td>4384444</td>\n",
       "    </tr>\n",
       "    <tr>\n",
       "      <th>11</th>\n",
       "      <td>3972488</td>\n",
       "    </tr>\n",
       "  </tbody>\n",
       "</table>\n",
       "</div>"
      ],
      "text/plain": [
       "           transactions\n",
       "store_nbr              \n",
       "44              7273093\n",
       "47              6535810\n",
       "45              6201115\n",
       "46              5990113\n",
       "3               5366350\n",
       "48              5107785\n",
       "8               4637971\n",
       "49              4574103\n",
       "50              4384444\n",
       "11              3972488"
      ]
     },
     "execution_count": 13,
     "metadata": {},
     "output_type": "execute_result"
    }
   ],
   "source": [
    "transactions.groupby('store_nbr')[['transactions']].sum().sort_values('transactions',ascending=False).iloc[:10]"
   ]
  },
  {
   "cell_type": "markdown",
   "id": "9fdc3658",
   "metadata": {},
   "source": [
    "# Assignment 2: Groupby Multiple Columns\n",
    "\n",
    "Can you get me the total transactions by store and month? \n",
    "\n",
    "Sort the table from first month to last, then by highest transactions to lowest within each month. \n"
   ]
  },
  {
   "cell_type": "code",
   "execution_count": 14,
   "id": "ff0828da",
   "metadata": {},
   "outputs": [
    {
     "data": {
      "text/html": [
       "<div>\n",
       "<style scoped>\n",
       "    .dataframe tbody tr th:only-of-type {\n",
       "        vertical-align: middle;\n",
       "    }\n",
       "\n",
       "    .dataframe tbody tr th {\n",
       "        vertical-align: top;\n",
       "    }\n",
       "\n",
       "    .dataframe thead th {\n",
       "        text-align: right;\n",
       "    }\n",
       "</style>\n",
       "<table border=\"1\" class=\"dataframe\">\n",
       "  <thead>\n",
       "    <tr style=\"text-align: right;\">\n",
       "      <th></th>\n",
       "      <th>date</th>\n",
       "      <th>store_nbr</th>\n",
       "      <th>transactions</th>\n",
       "      <th>month</th>\n",
       "    </tr>\n",
       "  </thead>\n",
       "  <tbody>\n",
       "    <tr>\n",
       "      <th>0</th>\n",
       "      <td>2013-01-01</td>\n",
       "      <td>25</td>\n",
       "      <td>770</td>\n",
       "      <td>1</td>\n",
       "    </tr>\n",
       "    <tr>\n",
       "      <th>1</th>\n",
       "      <td>2013-01-02</td>\n",
       "      <td>1</td>\n",
       "      <td>2111</td>\n",
       "      <td>1</td>\n",
       "    </tr>\n",
       "    <tr>\n",
       "      <th>2</th>\n",
       "      <td>2013-01-02</td>\n",
       "      <td>2</td>\n",
       "      <td>2358</td>\n",
       "      <td>1</td>\n",
       "    </tr>\n",
       "    <tr>\n",
       "      <th>3</th>\n",
       "      <td>2013-01-02</td>\n",
       "      <td>3</td>\n",
       "      <td>3487</td>\n",
       "      <td>1</td>\n",
       "    </tr>\n",
       "    <tr>\n",
       "      <th>4</th>\n",
       "      <td>2013-01-02</td>\n",
       "      <td>4</td>\n",
       "      <td>1922</td>\n",
       "      <td>1</td>\n",
       "    </tr>\n",
       "  </tbody>\n",
       "</table>\n",
       "</div>"
      ],
      "text/plain": [
       "        date  store_nbr  transactions  month\n",
       "0 2013-01-01         25           770      1\n",
       "1 2013-01-02          1          2111      1\n",
       "2 2013-01-02          2          2358      1\n",
       "3 2013-01-02          3          3487      1\n",
       "4 2013-01-02          4          1922      1"
      ]
     },
     "execution_count": 14,
     "metadata": {},
     "output_type": "execute_result"
    }
   ],
   "source": [
    "# helper code to extract month date part from date column\n",
    "\n",
    "transactions[\"month\"] = transactions[\"date\"].dt.month\n",
    "\n",
    "transactions.head()"
   ]
  },
  {
   "cell_type": "code",
   "execution_count": 23,
   "id": "e6ec2358",
   "metadata": {},
   "outputs": [
    {
     "data": {
      "text/html": [
       "<div>\n",
       "<style scoped>\n",
       "    .dataframe tbody tr th:only-of-type {\n",
       "        vertical-align: middle;\n",
       "    }\n",
       "\n",
       "    .dataframe tbody tr th {\n",
       "        vertical-align: top;\n",
       "    }\n",
       "\n",
       "    .dataframe thead th {\n",
       "        text-align: right;\n",
       "    }\n",
       "</style>\n",
       "<table border=\"1\" class=\"dataframe\">\n",
       "  <thead>\n",
       "    <tr style=\"text-align: right;\">\n",
       "      <th></th>\n",
       "      <th>store_nbr</th>\n",
       "      <th>month</th>\n",
       "      <th>transactions</th>\n",
       "    </tr>\n",
       "  </thead>\n",
       "  <tbody>\n",
       "    <tr>\n",
       "      <th>516</th>\n",
       "      <td>44</td>\n",
       "      <td>1</td>\n",
       "      <td>628438</td>\n",
       "    </tr>\n",
       "    <tr>\n",
       "      <th>552</th>\n",
       "      <td>47</td>\n",
       "      <td>1</td>\n",
       "      <td>568824</td>\n",
       "    </tr>\n",
       "    <tr>\n",
       "      <th>528</th>\n",
       "      <td>45</td>\n",
       "      <td>1</td>\n",
       "      <td>538370</td>\n",
       "    </tr>\n",
       "    <tr>\n",
       "      <th>540</th>\n",
       "      <td>46</td>\n",
       "      <td>1</td>\n",
       "      <td>522763</td>\n",
       "    </tr>\n",
       "    <tr>\n",
       "      <th>24</th>\n",
       "      <td>3</td>\n",
       "      <td>1</td>\n",
       "      <td>463260</td>\n",
       "    </tr>\n",
       "    <tr>\n",
       "      <th>...</th>\n",
       "      <td>...</td>\n",
       "      <td>...</td>\n",
       "      <td>...</td>\n",
       "    </tr>\n",
       "    <tr>\n",
       "      <th>383</th>\n",
       "      <td>32</td>\n",
       "      <td>12</td>\n",
       "      <td>86167</td>\n",
       "    </tr>\n",
       "    <tr>\n",
       "      <th>251</th>\n",
       "      <td>21</td>\n",
       "      <td>12</td>\n",
       "      <td>84128</td>\n",
       "    </tr>\n",
       "    <tr>\n",
       "      <th>503</th>\n",
       "      <td>42</td>\n",
       "      <td>12</td>\n",
       "      <td>76741</td>\n",
       "    </tr>\n",
       "    <tr>\n",
       "      <th>347</th>\n",
       "      <td>29</td>\n",
       "      <td>12</td>\n",
       "      <td>76627</td>\n",
       "    </tr>\n",
       "    <tr>\n",
       "      <th>263</th>\n",
       "      <td>22</td>\n",
       "      <td>12</td>\n",
       "      <td>50650</td>\n",
       "    </tr>\n",
       "  </tbody>\n",
       "</table>\n",
       "<p>641 rows × 3 columns</p>\n",
       "</div>"
      ],
      "text/plain": [
       "     store_nbr  month  transactions\n",
       "516         44      1        628438\n",
       "552         47      1        568824\n",
       "528         45      1        538370\n",
       "540         46      1        522763\n",
       "24           3      1        463260\n",
       "..         ...    ...           ...\n",
       "383         32     12         86167\n",
       "251         21     12         84128\n",
       "503         42     12         76741\n",
       "347         29     12         76627\n",
       "263         22     12         50650\n",
       "\n",
       "[641 rows x 3 columns]"
      ]
     },
     "execution_count": 23,
     "metadata": {},
     "output_type": "execute_result"
    }
   ],
   "source": [
    "(\n",
    "    transactions\n",
    "    .groupby(['store_nbr','month'],as_index=False)[['transactions']]\n",
    "    .sum()\n",
    "    .sort_values(['month','transactions'],ascending=[True,False])\n",
    ")"
   ]
  },
  {
   "cell_type": "markdown",
   "id": "f92dc03e",
   "metadata": {},
   "source": [
    "# Assignment 3: Multi-Index DataFrames\n",
    "\n",
    "\n",
    "Can you help me access rows and columns with multiple indices? I’ve been struggling with multi-index DataFrames.\n",
    "\n",
    "Access:\n",
    "* Grab Store 3, Month 1\n",
    "* Then, select the column storing the mean of transactions\n",
    "\n",
    "Fix:\n",
    "* Drop the outer layer of the column Index\n",
    "* Reset the row index so it is the default integer index"
   ]
  },
  {
   "cell_type": "code",
   "execution_count": null,
   "id": "423fdd8f",
   "metadata": {},
   "outputs": [],
   "source": [
    "# Ross' grouped DataFrame code, run this first\n",
    "\n",
    "grouped = (\n",
    "    transactions.groupby([\"store_nbr\", \"month\"])\n",
    "    .agg({\"transactions\": [\"sum\", \"mean\"]})\n",
    "    .sort_values(by=[\"month\", (\"transactions\", \"sum\")], ascending=[True, False])\n",
    ")"
   ]
  },
  {
   "cell_type": "code",
   "execution_count": null,
   "id": "7000de75",
   "metadata": {},
   "outputs": [],
   "source": [
    "# df grouped by store and month with two aggregation columns\n",
    "\n",
    "grouped.head()"
   ]
  },
  {
   "cell_type": "code",
   "execution_count": null,
   "id": "21b04cc7",
   "metadata": {},
   "outputs": [],
   "source": []
  },
  {
   "cell_type": "code",
   "execution_count": null,
   "id": "0cdb7dd1",
   "metadata": {},
   "outputs": [],
   "source": []
  },
  {
   "cell_type": "code",
   "execution_count": null,
   "id": "03e78a08",
   "metadata": {},
   "outputs": [],
   "source": []
  },
  {
   "cell_type": "markdown",
   "id": "532e5e7b",
   "metadata": {},
   "source": [
    "# Assignment 4: The Agg Method\n",
    "\n",
    "Calculate the mean of target met by store, and the sum of bonuses to be paid to each store.\n",
    "\n",
    "Sort them by highest to lowest bonus payout.\n",
    "\n",
    "Then, do the same for day of week and month."
   ]
  },
  {
   "cell_type": "code",
   "execution_count": null,
   "id": "219cf295",
   "metadata": {},
   "outputs": [],
   "source": [
    "# Recreate table from section 3\n",
    "\n",
    "transactions = transactions.assign(\n",
    "    target_pct=transactions[\"transactions\"] / 2500,\n",
    "    met_target=(transactions[\"transactions\"] / 2500) >= 1,\n",
    "    bonus_payable=((transactions[\"transactions\"] / 2500) >= 1) * 100,\n",
    "    month=transactions.date.dt.month,\n",
    "    day_of_week=transactions.date.dt.dayofweek,\n",
    ")\n",
    "\n",
    "transactions.head()"
   ]
  },
  {
   "cell_type": "code",
   "execution_count": null,
   "id": "eda6cb0f",
   "metadata": {},
   "outputs": [],
   "source": []
  },
  {
   "cell_type": "code",
   "execution_count": null,
   "id": "835d3db9",
   "metadata": {},
   "outputs": [],
   "source": []
  },
  {
   "cell_type": "code",
   "execution_count": null,
   "id": "e34f4360",
   "metadata": {},
   "outputs": [],
   "source": []
  },
  {
   "cell_type": "markdown",
   "id": "12be3319",
   "metadata": {},
   "source": [
    "# Assignment 4: Transform\n",
    "\n",
    "Calculate the mean of transactions by store number and day of week while keeping row numbers. \n",
    "\n",
    "Then compare the performance of each row to its day of week average. (difference between transactions and daily avg)"
   ]
  },
  {
   "cell_type": "code",
   "execution_count": null,
   "id": "040ea04b",
   "metadata": {},
   "outputs": [],
   "source": []
  },
  {
   "cell_type": "code",
   "execution_count": null,
   "id": "cfa0f37a",
   "metadata": {},
   "outputs": [],
   "source": []
  },
  {
   "cell_type": "code",
   "execution_count": null,
   "id": "a769ea79",
   "metadata": {},
   "outputs": [],
   "source": []
  },
  {
   "cell_type": "markdown",
   "id": "b1bce8a6",
   "metadata": {},
   "source": [
    "# Assignment 5: Pivot\n",
    "\n",
    "Pivot transactions with store number as index, columns day of week, with the sum of bonus payable as cells.\n",
    "\n",
    "Filter to stores that had a non-zero bonus payable and create a heatmap.\n",
    "\n",
    "Then unpivot (melt) the table so we have one row for each store and day of the week with the corresponding total owed. \n"
   ]
  },
  {
   "cell_type": "code",
   "execution_count": null,
   "id": "dff61add",
   "metadata": {
    "scrolled": true
   },
   "outputs": [],
   "source": [
    "# Use transactions table (ok if includes columns from assignment 4 or not)\n",
    "\n",
    "transactions.head()"
   ]
  },
  {
   "cell_type": "code",
   "execution_count": null,
   "id": "0fabd14c",
   "metadata": {
    "scrolled": true
   },
   "outputs": [],
   "source": []
  },
  {
   "cell_type": "code",
   "execution_count": null,
   "id": "c2750178",
   "metadata": {},
   "outputs": [],
   "source": []
  }
 ],
 "metadata": {
  "kernelspec": {
   "display_name": "Python 3 (ipykernel)",
   "language": "python",
   "name": "python3"
  },
  "language_info": {
   "codemirror_mode": {
    "name": "ipython",
    "version": 3
   },
   "file_extension": ".py",
   "mimetype": "text/x-python",
   "name": "python",
   "nbconvert_exporter": "python",
   "pygments_lexer": "ipython3",
   "version": "3.10.9"
  }
 },
 "nbformat": 4,
 "nbformat_minor": 5
}
