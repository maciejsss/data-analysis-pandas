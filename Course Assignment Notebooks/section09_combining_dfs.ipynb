{
 "cells": [
  {
   "cell_type": "code",
   "execution_count": 2,
   "id": "c4acf141",
   "metadata": {},
   "outputs": [],
   "source": [
    "import pandas as pd"
   ]
  },
  {
   "cell_type": "markdown",
   "id": "6ef47ce2",
   "metadata": {},
   "source": [
    "# Assignment 1: pd.Concat\n",
    "\n",
    "Combine the 2014 and 2015 data you wrote out in the last section into a single dataframe. \n",
    "\n",
    "Then delete the transactions DataFrame (there is a handy base Python keyword for this)."
   ]
  },
  {
   "cell_type": "code",
   "execution_count": 3,
   "id": "0ca22035",
   "metadata": {},
   "outputs": [],
   "source": [
    "# Code to read in transactions data if you need to re-create CSV/Excel files from section 8 \n",
    "# NOTE: You won't have the extra columns we created but it won't matter for this assignment\n",
    "\n",
    "transactions = pd.read_csv(\"../retail/transactions.csv\", parse_dates=[\"date\"])\n",
    "\n",
    "# Excel\n",
    "\n",
    "with pd.ExcelWriter(\"../retail/transactions.xlsx\") as writer:\n",
    "    for year in range(2013, 2018):\n",
    "        transactions.loc[transactions[\"date\"].dt.year == year].to_excel(\n",
    "            writer, sheet_name=str(year)\n",
    "        )\n",
    "        \n",
    "# CSV  \n",
    "\n",
    "# for year in range(2013, 2018):\n",
    "#     transactions.loc[transactions[\"date\"].dt.year == year].to_csv(\n",
    "#         f\"transactions_{year}.csv\"\n",
    "#     )"
   ]
  },
  {
   "cell_type": "code",
   "execution_count": 4,
   "id": "491f5d49",
   "metadata": {},
   "outputs": [],
   "source": [
    "transactions_2014 = pd.read_excel(\n",
    "    '../retail/transactions.xlsx',\n",
    "    sheet_name='2014'\n",
    ")\n",
    "\n",
    "transactions_2015 = pd.read_excel(\n",
    "    '../retail/transactions.xlsx',\n",
    "    sheet_name='2015'\n",
    ")"
   ]
  },
  {
   "cell_type": "code",
   "execution_count": 5,
   "id": "fecd2dff",
   "metadata": {},
   "outputs": [
    {
     "data": {
      "text/html": [
       "<div>\n",
       "<style scoped>\n",
       "    .dataframe tbody tr th:only-of-type {\n",
       "        vertical-align: middle;\n",
       "    }\n",
       "\n",
       "    .dataframe tbody tr th {\n",
       "        vertical-align: top;\n",
       "    }\n",
       "\n",
       "    .dataframe thead th {\n",
       "        text-align: right;\n",
       "    }\n",
       "</style>\n",
       "<table border=\"1\" class=\"dataframe\">\n",
       "  <thead>\n",
       "    <tr style=\"text-align: right;\">\n",
       "      <th></th>\n",
       "      <th>Unnamed: 0</th>\n",
       "      <th>date</th>\n",
       "      <th>store_nbr</th>\n",
       "      <th>transactions</th>\n",
       "    </tr>\n",
       "  </thead>\n",
       "  <tbody>\n",
       "    <tr>\n",
       "      <th>0</th>\n",
       "      <td>16908</td>\n",
       "      <td>2014-01-01</td>\n",
       "      <td>25</td>\n",
       "      <td>840</td>\n",
       "    </tr>\n",
       "    <tr>\n",
       "      <th>1</th>\n",
       "      <td>16909</td>\n",
       "      <td>2014-01-01</td>\n",
       "      <td>36</td>\n",
       "      <td>487</td>\n",
       "    </tr>\n",
       "    <tr>\n",
       "      <th>2</th>\n",
       "      <td>16910</td>\n",
       "      <td>2014-01-02</td>\n",
       "      <td>1</td>\n",
       "      <td>1875</td>\n",
       "    </tr>\n",
       "    <tr>\n",
       "      <th>3</th>\n",
       "      <td>16911</td>\n",
       "      <td>2014-01-02</td>\n",
       "      <td>2</td>\n",
       "      <td>2122</td>\n",
       "    </tr>\n",
       "    <tr>\n",
       "      <th>4</th>\n",
       "      <td>16912</td>\n",
       "      <td>2014-01-02</td>\n",
       "      <td>3</td>\n",
       "      <td>3350</td>\n",
       "    </tr>\n",
       "    <tr>\n",
       "      <th>...</th>\n",
       "      <td>...</td>\n",
       "      <td>...</td>\n",
       "      <td>...</td>\n",
       "      <td>...</td>\n",
       "    </tr>\n",
       "    <tr>\n",
       "      <th>35479</th>\n",
       "      <td>52387</td>\n",
       "      <td>2015-12-31</td>\n",
       "      <td>49</td>\n",
       "      <td>3828</td>\n",
       "    </tr>\n",
       "    <tr>\n",
       "      <th>35480</th>\n",
       "      <td>52388</td>\n",
       "      <td>2015-12-31</td>\n",
       "      <td>50</td>\n",
       "      <td>2948</td>\n",
       "    </tr>\n",
       "    <tr>\n",
       "      <th>35481</th>\n",
       "      <td>52389</td>\n",
       "      <td>2015-12-31</td>\n",
       "      <td>51</td>\n",
       "      <td>2892</td>\n",
       "    </tr>\n",
       "    <tr>\n",
       "      <th>35482</th>\n",
       "      <td>52390</td>\n",
       "      <td>2015-12-31</td>\n",
       "      <td>53</td>\n",
       "      <td>2300</td>\n",
       "    </tr>\n",
       "    <tr>\n",
       "      <th>35483</th>\n",
       "      <td>52391</td>\n",
       "      <td>2015-12-31</td>\n",
       "      <td>54</td>\n",
       "      <td>1572</td>\n",
       "    </tr>\n",
       "  </tbody>\n",
       "</table>\n",
       "<p>35484 rows × 4 columns</p>\n",
       "</div>"
      ],
      "text/plain": [
       "       Unnamed: 0       date  store_nbr  transactions\n",
       "0           16908 2014-01-01         25           840\n",
       "1           16909 2014-01-01         36           487\n",
       "2           16910 2014-01-02          1          1875\n",
       "3           16911 2014-01-02          2          2122\n",
       "4           16912 2014-01-02          3          3350\n",
       "...           ...        ...        ...           ...\n",
       "35479       52387 2015-12-31         49          3828\n",
       "35480       52388 2015-12-31         50          2948\n",
       "35481       52389 2015-12-31         51          2892\n",
       "35482       52390 2015-12-31         53          2300\n",
       "35483       52391 2015-12-31         54          1572\n",
       "\n",
       "[35484 rows x 4 columns]"
      ]
     },
     "execution_count": 5,
     "metadata": {},
     "output_type": "execute_result"
    }
   ],
   "source": [
    "pd.concat(\n",
    "    [transactions_2014, transactions_2015],\n",
    "    ignore_index=True\n",
    ")"
   ]
  },
  {
   "cell_type": "code",
   "execution_count": null,
   "id": "f97b9719",
   "metadata": {},
   "outputs": [],
   "source": []
  },
  {
   "cell_type": "code",
   "execution_count": null,
   "id": "09193e77",
   "metadata": {},
   "outputs": [],
   "source": []
  },
  {
   "cell_type": "code",
   "execution_count": null,
   "id": "406c111f",
   "metadata": {},
   "outputs": [],
   "source": []
  },
  {
   "cell_type": "code",
   "execution_count": null,
   "id": "917b0035",
   "metadata": {},
   "outputs": [],
   "source": []
  },
  {
   "cell_type": "markdown",
   "id": "8f0320d0",
   "metadata": {},
   "source": [
    "# Assignment 2: Joins\n",
    "\n",
    "Can you join retail.csv with stores.csv? You'll need to read both files in.\n",
    "\n",
    "Once you have that, plot:\n",
    "* Total sales by city, \n",
    "* The sum of sales by “type” over time,\n",
    "* A stacked bar chart with average daily sales by type by month, with “type” as the “stacks”. \n"
   ]
  },
  {
   "cell_type": "code",
   "execution_count": 6,
   "id": "47f155f8",
   "metadata": {},
   "outputs": [],
   "source": [
    "retail = pd.read_csv('../retail/retail_2016_2017.csv')\n",
    "stores = pd.read_csv('../retail/stores.csv')"
   ]
  },
  {
   "cell_type": "code",
   "execution_count": 15,
   "id": "00974b51",
   "metadata": {},
   "outputs": [],
   "source": [
    "retail_store = retail[['date','store_nbr','sales']].merge(\n",
    "    stores[['store_nbr','city','type']],\n",
    "    how='left',\n",
    "    left_on='store_nbr',\n",
    "    right_on='store_nbr'\n",
    ")"
   ]
  },
  {
   "cell_type": "code",
   "execution_count": 36,
   "id": "00b662a4",
   "metadata": {},
   "outputs": [
    {
     "data": {
      "text/plain": [
       "<Axes: xlabel='date,type'>"
      ]
     },
     "execution_count": 36,
     "metadata": {},
     "output_type": "execute_result"
    },
    {
     "data": {
      "image/png": "[encoded data removed]",
      "text/plain": [
       "<Figure size 640x480 with 1 Axes>"
      ]
     },
     "metadata": {},
     "output_type": "display_data"
    }
   ],
   "source": [
    "(\n",
    "retail_store.groupby(['date','type']).agg({\n",
    "    'sales': 'sum'\n",
    "})\n",
    ".round()\n",
    ".plot()\n",
    ")"
   ]
  },
  {
   "cell_type": "code",
   "execution_count": null,
   "id": "f030c5bc",
   "metadata": {},
   "outputs": [],
   "source": [
    "(\n",
    "retail_store.groupby('city').agg({\n",
    "    'sales': 'sum'\n",
    "})\n",
    ".round()\n",
    ".sort_values(by='sales',ascending=False)\n",
    ".plot.bar()\n",
    ")"
   ]
  },
  {
   "cell_type": "code",
   "execution_count": null,
   "id": "5906dd36",
   "metadata": {},
   "outputs": [],
   "source": []
  },
  {
   "cell_type": "code",
   "execution_count": null,
   "id": "14d8d2b7",
   "metadata": {},
   "outputs": [],
   "source": []
  }
 ],
 "metadata": {
  "kernelspec": {
   "display_name": "Python 3 (ipykernel)",
   "language": "python",
   "name": "python3"
  },
  "language_info": {
   "codemirror_mode": {
    "name": "ipython",
    "version": 3
   },
   "file_extension": ".py",
   "mimetype": "text/x-python",
   "name": "python",
   "nbconvert_exporter": "python",
   "pygments_lexer": "ipython3",
   "version": "3.10.9"
  }
 },
 "nbformat": 4,
 "nbformat_minor": 5
}
