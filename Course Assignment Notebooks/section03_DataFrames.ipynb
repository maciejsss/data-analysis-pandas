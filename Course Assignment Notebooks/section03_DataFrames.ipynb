{
 "cells": [
  {
   "cell_type": "code",
   "execution_count": 1,
   "id": "82be9431",
   "metadata": {},
   "outputs": [],
   "source": [
    "import pandas as pd\n",
    "import numpy as np"
   ]
  },
  {
   "cell_type": "markdown",
   "id": "0a02e42d",
   "metadata": {},
   "source": [
    "# Assignment 1: DataFrame Basics\n",
    "\n",
    "Hi there!\n",
    "\n",
    "Can you read in the transactions dataset and report on:\n",
    "\n",
    "* The number of rows and columns\n",
    "* The names of the columns\n",
    "* The datatypes of each column"
   ]
  },
  {
   "cell_type": "code",
   "execution_count": 2,
   "id": "cb37c0d7",
   "metadata": {},
   "outputs": [],
   "source": [
    "# A common practice is to create a path variable to pass to read_csv\n",
    "path = \"../retail/transactions.csv\"\n",
    "transactions = pd.read_csv(path)\n"
   ]
  },
  {
   "cell_type": "code",
   "execution_count": 3,
   "id": "8f4be5f4",
   "metadata": {},
   "outputs": [
    {
     "data": {
      "text/html": [
       "<div>\n",
       "<style scoped>\n",
       "    .dataframe tbody tr th:only-of-type {\n",
       "        vertical-align: middle;\n",
       "    }\n",
       "\n",
       "    .dataframe tbody tr th {\n",
       "        vertical-align: top;\n",
       "    }\n",
       "\n",
       "    .dataframe thead th {\n",
       "        text-align: right;\n",
       "    }\n",
       "</style>\n",
       "<table border=\"1\" class=\"dataframe\">\n",
       "  <thead>\n",
       "    <tr style=\"text-align: right;\">\n",
       "      <th></th>\n",
       "      <th>date</th>\n",
       "      <th>store_nbr</th>\n",
       "      <th>transactions</th>\n",
       "    </tr>\n",
       "  </thead>\n",
       "  <tbody>\n",
       "    <tr>\n",
       "      <th>0</th>\n",
       "      <td>2013-01-01</td>\n",
       "      <td>25</td>\n",
       "      <td>770</td>\n",
       "    </tr>\n",
       "    <tr>\n",
       "      <th>1</th>\n",
       "      <td>2013-01-02</td>\n",
       "      <td>1</td>\n",
       "      <td>2111</td>\n",
       "    </tr>\n",
       "    <tr>\n",
       "      <th>2</th>\n",
       "      <td>2013-01-02</td>\n",
       "      <td>2</td>\n",
       "      <td>2358</td>\n",
       "    </tr>\n",
       "    <tr>\n",
       "      <th>3</th>\n",
       "      <td>2013-01-02</td>\n",
       "      <td>3</td>\n",
       "      <td>3487</td>\n",
       "    </tr>\n",
       "    <tr>\n",
       "      <th>4</th>\n",
       "      <td>2013-01-02</td>\n",
       "      <td>4</td>\n",
       "      <td>1922</td>\n",
       "    </tr>\n",
       "    <tr>\n",
       "      <th>...</th>\n",
       "      <td>...</td>\n",
       "      <td>...</td>\n",
       "      <td>...</td>\n",
       "    </tr>\n",
       "    <tr>\n",
       "      <th>83483</th>\n",
       "      <td>2017-08-15</td>\n",
       "      <td>50</td>\n",
       "      <td>2804</td>\n",
       "    </tr>\n",
       "    <tr>\n",
       "      <th>83484</th>\n",
       "      <td>2017-08-15</td>\n",
       "      <td>51</td>\n",
       "      <td>1573</td>\n",
       "    </tr>\n",
       "    <tr>\n",
       "      <th>83485</th>\n",
       "      <td>2017-08-15</td>\n",
       "      <td>52</td>\n",
       "      <td>2255</td>\n",
       "    </tr>\n",
       "    <tr>\n",
       "      <th>83486</th>\n",
       "      <td>2017-08-15</td>\n",
       "      <td>53</td>\n",
       "      <td>932</td>\n",
       "    </tr>\n",
       "    <tr>\n",
       "      <th>83487</th>\n",
       "      <td>2017-08-15</td>\n",
       "      <td>54</td>\n",
       "      <td>802</td>\n",
       "    </tr>\n",
       "  </tbody>\n",
       "</table>\n",
       "<p>83488 rows × 3 columns</p>\n",
       "</div>"
      ],
      "text/plain": [
       "             date  store_nbr  transactions\n",
       "0      2013-01-01         25           770\n",
       "1      2013-01-02          1          2111\n",
       "2      2013-01-02          2          2358\n",
       "3      2013-01-02          3          3487\n",
       "4      2013-01-02          4          1922\n",
       "...           ...        ...           ...\n",
       "83483  2017-08-15         50          2804\n",
       "83484  2017-08-15         51          1573\n",
       "83485  2017-08-15         52          2255\n",
       "83486  2017-08-15         53           932\n",
       "83487  2017-08-15         54           802\n",
       "\n",
       "[83488 rows x 3 columns]"
      ]
     },
     "execution_count": 3,
     "metadata": {},
     "output_type": "execute_result"
    }
   ],
   "source": [
    "transactions"
   ]
  },
  {
   "cell_type": "code",
   "execution_count": 5,
   "id": "7c5626e5",
   "metadata": {},
   "outputs": [
    {
     "name": "stdout",
     "output_type": "stream",
     "text": [
      "(83488, 3)\n",
      "Index(['date', 'store_nbr', 'transactions'], dtype='object')\n",
      "date            object\n",
      "store_nbr        int64\n",
      "transactions     int64\n",
      "dtype: object\n"
     ]
    }
   ],
   "source": [
    "print(transactions.shape)\n",
    "print(transactions.columns)\n",
    "print(transactions.dtypes)"
   ]
  },
  {
   "cell_type": "code",
   "execution_count": null,
   "id": "096d9dce",
   "metadata": {},
   "outputs": [],
   "source": []
  },
  {
   "cell_type": "markdown",
   "id": "68959027",
   "metadata": {},
   "source": [
    "# Assignment 2: Exploring DataFrames\n",
    "\n",
    "Hello!\n",
    "\n",
    "* Can you quickly inspect the first 5 rows of the transactions data? \n",
    "\n",
    "* Then, dive a bit more deeply into the data and check if there are any missing values.\n",
    "* What about the number of unique dates? I want to make sure we didn’t leave any out.\n",
    "* Finally, can you report the mean, median, min and max of “transactions”?  I want to check for any anomalies in our data.\n"
   ]
  },
  {
   "cell_type": "code",
   "execution_count": null,
   "id": "ffe682d5",
   "metadata": {},
   "outputs": [],
   "source": []
  },
  {
   "cell_type": "code",
   "execution_count": null,
   "id": "6d6c24d2",
   "metadata": {},
   "outputs": [],
   "source": []
  },
  {
   "cell_type": "code",
   "execution_count": null,
   "id": "073c903d",
   "metadata": {},
   "outputs": [],
   "source": []
  },
  {
   "cell_type": "code",
   "execution_count": null,
   "id": "4346920c",
   "metadata": {},
   "outputs": [],
   "source": []
  },
  {
   "cell_type": "code",
   "execution_count": null,
   "id": "77186d80",
   "metadata": {},
   "outputs": [],
   "source": []
  },
  {
   "cell_type": "markdown",
   "id": "54e6a1ad",
   "metadata": {},
   "source": [
    "# Exercise 3 - Accessing DataFrames\n",
    "\n",
    "Hi, starting to dive deeper into this data.\n",
    "\n",
    "I noticed that the first row is the only one from 2013-01-01.\n",
    "\n",
    "* Can you get me a copy of the DataFrame that excludes that row, and only includes “store_nbr” and “transactions”?\n",
    "* Also, can you report the number of unique store numbers?\n",
    "* Finally, return the total number of transactions in millions\n"
   ]
  },
  {
   "cell_type": "code",
   "execution_count": null,
   "id": "2fca9359",
   "metadata": {},
   "outputs": [],
   "source": [
    "transactions.head()"
   ]
  },
  {
   "cell_type": "code",
   "execution_count": null,
   "id": "03e53911",
   "metadata": {},
   "outputs": [],
   "source": []
  },
  {
   "cell_type": "code",
   "execution_count": null,
   "id": "2e57e8fb",
   "metadata": {},
   "outputs": [],
   "source": []
  },
  {
   "cell_type": "code",
   "execution_count": null,
   "id": "fce57d92",
   "metadata": {},
   "outputs": [],
   "source": []
  },
  {
   "cell_type": "markdown",
   "id": "e4ef5b93",
   "metadata": {},
   "source": [
    "# Assignment 4: Dropping Data and Duplicates\n",
    "\n",
    "Hi there!\n",
    "\n",
    "Can you:\n",
    "\n",
    "1. Drop the first row of data? We want it permanently removed. \n",
    "2. Drop the date column but not in place\n",
    "3. Return a dataframe that only includes the last row for each of the stores.\n",
    "\n",
    "Thanks!"
   ]
  },
  {
   "cell_type": "code",
   "execution_count": null,
   "id": "7b57a592",
   "metadata": {},
   "outputs": [],
   "source": [
    "transactions.head()"
   ]
  },
  {
   "cell_type": "code",
   "execution_count": null,
   "id": "a19dd02a",
   "metadata": {},
   "outputs": [],
   "source": []
  },
  {
   "cell_type": "code",
   "execution_count": null,
   "id": "78560e89",
   "metadata": {},
   "outputs": [],
   "source": []
  },
  {
   "cell_type": "code",
   "execution_count": null,
   "id": "8d2398f0",
   "metadata": {},
   "outputs": [],
   "source": []
  },
  {
   "cell_type": "markdown",
   "id": "a31b812d",
   "metadata": {},
   "source": [
    "# Assignment 5: Missing Data\n",
    "\n",
    "Hello, \n",
    "\n",
    "Can you tell if any dates or prices are missing in the oil dataset?\n",
    "\n",
    "Then compare the mean of the oil series when filling in with mean vs. filling in with 0.\n",
    "\n",
    "Thanks!"
   ]
  },
  {
   "cell_type": "code",
   "execution_count": null,
   "id": "ab747f3a",
   "metadata": {},
   "outputs": [],
   "source": [
    "oil = pd.read_csv(\"../retail/oil.csv\")"
   ]
  },
  {
   "cell_type": "code",
   "execution_count": null,
   "id": "8e3543f6",
   "metadata": {},
   "outputs": [],
   "source": []
  },
  {
   "cell_type": "code",
   "execution_count": null,
   "id": "c1dd171b",
   "metadata": {},
   "outputs": [],
   "source": []
  },
  {
   "cell_type": "code",
   "execution_count": null,
   "id": "ccf390b6",
   "metadata": {},
   "outputs": [],
   "source": []
  },
  {
   "cell_type": "code",
   "execution_count": null,
   "id": "6faadf27",
   "metadata": {},
   "outputs": [],
   "source": []
  },
  {
   "cell_type": "markdown",
   "id": "a10e8103",
   "metadata": {},
   "source": [
    "# Assignment 6: Filtering DataFrames\n",
    "\n",
    "I need some quick research on store 25:\n",
    "\n",
    "* First, calculate the percentage of times ALL stores had more than 2000 transactions\n",
    "* Then, calculate the percentage of times store 25 had more than 2000 transactions, and calculate the sum of transactions on these days\n",
    "* Finally, sum the transactions for stores 25 and 31, that occurred in May or June, and had less than 2000 transactions\n"
   ]
  },
  {
   "cell_type": "code",
   "execution_count": null,
   "id": "a1d1964d",
   "metadata": {},
   "outputs": [],
   "source": [
    "transactions.head()"
   ]
  },
  {
   "cell_type": "code",
   "execution_count": 2,
   "id": "9205301a",
   "metadata": {},
   "outputs": [
    {
     "ename": "NameError",
     "evalue": "name 'transactions' is not defined",
     "output_type": "error",
     "traceback": [
      "\u001b[0;31m---------------------------------------------------------------------------\u001b[0m",
      "\u001b[0;31mNameError\u001b[0m                                 Traceback (most recent call last)",
      "\u001b[0;32m/var/folders/f8/075hbnj13wb0f9yzh9k4nyz00000gn/T/ipykernel_87747/3698000521.py\u001b[0m in \u001b[0;36m<module>\u001b[0;34m\u001b[0m\n\u001b[0;32m----> 1\u001b[0;31m \u001b[0mtransactions\u001b[0m\u001b[0;34m.\u001b[0m\u001b[0mquery\u001b[0m\u001b[0;34m(\u001b[0m\u001b[0;34m\"date.str[6] == '1'\"\u001b[0m\u001b[0;34m)\u001b[0m\u001b[0;34m\u001b[0m\u001b[0;34m\u001b[0m\u001b[0m\n\u001b[0m",
      "\u001b[0;31mNameError\u001b[0m: name 'transactions' is not defined"
     ]
    }
   ],
   "source": [
    "transactions.query(\"date.str[6] == '1'\")"
   ]
  },
  {
   "cell_type": "code",
   "execution_count": null,
   "id": "0cd4508d",
   "metadata": {},
   "outputs": [],
   "source": []
  },
  {
   "cell_type": "code",
   "execution_count": null,
   "id": "7d95252e",
   "metadata": {},
   "outputs": [],
   "source": []
  },
  {
   "cell_type": "code",
   "execution_count": null,
   "id": "e98eb067",
   "metadata": {},
   "outputs": [],
   "source": []
  },
  {
   "cell_type": "code",
   "execution_count": null,
   "id": "cc729c73",
   "metadata": {},
   "outputs": [],
   "source": []
  },
  {
   "cell_type": "markdown",
   "id": "1b4dbc56",
   "metadata": {},
   "source": [
    "# Assignment 7: Sorting DataFrames\n",
    "\n",
    "Hi there,\n",
    "* Can you get me a dataset that includes the 5 days with the highest transactions counts? Any similarities between them?\n",
    "* Then, can you get me a dataset sorted by date from earliest to most recent, but with the highest transactions first and the lowest transactions last for each day?\n",
    "* Finally, sort the columns in reverse alphabetical order. \n",
    "\n",
    "Thanks!\n"
   ]
  },
  {
   "cell_type": "code",
   "execution_count": null,
   "id": "8537da30",
   "metadata": {},
   "outputs": [],
   "source": [
    "transactions.head()"
   ]
  },
  {
   "cell_type": "code",
   "execution_count": null,
   "id": "467ba590",
   "metadata": {},
   "outputs": [],
   "source": []
  },
  {
   "cell_type": "code",
   "execution_count": null,
   "id": "65a91820",
   "metadata": {},
   "outputs": [],
   "source": []
  },
  {
   "cell_type": "code",
   "execution_count": null,
   "id": "5ded5f12",
   "metadata": {},
   "outputs": [],
   "source": []
  },
  {
   "cell_type": "markdown",
   "id": "d18621b8",
   "metadata": {},
   "source": [
    "# Assignment 8: Modifying Columns\n",
    "\n",
    "Just some quick work, but can you send me the transaction data with the columns renamed?\n",
    "\n",
    "* Rename `transactions` to `transaction_count` and `store_nbr` to `store_number`.\n",
    "* Reorder the columns so date is first, then store number, then transaction count.\n",
    "\n",
    "Thanks!\n"
   ]
  },
  {
   "cell_type": "code",
   "execution_count": null,
   "id": "949d1bfe",
   "metadata": {},
   "outputs": [],
   "source": [
    "transactions.head()"
   ]
  },
  {
   "cell_type": "code",
   "execution_count": null,
   "id": "e4ad52c5",
   "metadata": {},
   "outputs": [],
   "source": []
  },
  {
   "cell_type": "markdown",
   "id": "cca66fb2",
   "metadata": {},
   "source": [
    "# Assignment 9: Column Creation\n",
    "\n",
    "Just some quick work, but can you send me the transaction data with the columns renamed?\n",
    "\n",
    "* Create a `pct_to_target` column that divides transactions by 2500.\n",
    "* Then, create a `met_target` column that returns True if `pct_to_target` is greater than or equal to 1.\n",
    "* Next, create a `bonus_payable` column that equals 100 if `met_target` is True, and 0 if not. Then sum the bonus payable column.\n",
    "* Finally, create columns for month and day of week as integers. There is some helper code for these dateparts below.\n",
    "\n",
    "\n",
    "\n",
    "Thanks!\n",
    "\n"
   ]
  },
  {
   "cell_type": "code",
   "execution_count": null,
   "id": "ca94a906",
   "metadata": {},
   "outputs": [],
   "source": [
    "transactions.head()"
   ]
  },
  {
   "cell_type": "code",
   "execution_count": null,
   "id": "01b2e427",
   "metadata": {},
   "outputs": [],
   "source": []
  },
  {
   "cell_type": "code",
   "execution_count": null,
   "id": "8e861ba7",
   "metadata": {},
   "outputs": [],
   "source": []
  },
  {
   "cell_type": "markdown",
   "id": "b0068fd8",
   "metadata": {},
   "source": [
    "# Assignment 10: np.select\n",
    "\n",
    "Hi there! I need a few columns created.\n",
    "\n",
    "1. Create a ‘seasonal_bonus’ column that applies to these dates: \n",
    "    * All days in December (month = 12)\n",
    "    * Sundays (day_of_week = 6) in May (month = 5)\n",
    "    * Mondays (day_of_week = 0) in July (month = 7)\n",
    "2. Call the December bonus ‘Holiday Bonus’, the May bonus ‘Corporate Month’, and the July bonus ‘Summer Special’. If no bonus applies, the column should display ‘None’. \n",
    "3. Finally, calculate the total bonus owed at $100 per day.\n",
    "\n",
    "Thanks!"
   ]
  },
  {
   "cell_type": "code",
   "execution_count": null,
   "id": "1ae4968f",
   "metadata": {},
   "outputs": [],
   "source": [
    "transactions.head()"
   ]
  },
  {
   "cell_type": "code",
   "execution_count": null,
   "id": "3d1349a2",
   "metadata": {},
   "outputs": [],
   "source": []
  },
  {
   "cell_type": "code",
   "execution_count": null,
   "id": "f71b0df8",
   "metadata": {},
   "outputs": [],
   "source": []
  },
  {
   "cell_type": "code",
   "execution_count": null,
   "id": "3e407cda",
   "metadata": {},
   "outputs": [],
   "source": []
  },
  {
   "cell_type": "markdown",
   "id": "21419bc2",
   "metadata": {},
   "source": [
    "# Assignment 11: Assign \n",
    "\n",
    "* Drop the columns that have been created so far (keep only date, store_number, and transaction count), and recreate them using the assign method.\n",
    "* Then sum the seasonal bonus owed once again to make sure the numbers are correct.\n"
   ]
  },
  {
   "cell_type": "code",
   "execution_count": null,
   "id": "7ca47abb",
   "metadata": {},
   "outputs": [],
   "source": [
    "# Drop columns we created in prior exercises\n"
   ]
  },
  {
   "cell_type": "code",
   "execution_count": null,
   "id": "d5fa300b",
   "metadata": {},
   "outputs": [],
   "source": [
    "# Create same columns with assign\n"
   ]
  },
  {
   "cell_type": "code",
   "execution_count": null,
   "id": "eb8ccd91",
   "metadata": {},
   "outputs": [],
   "source": []
  },
  {
   "cell_type": "markdown",
   "id": "e4b60432",
   "metadata": {},
   "source": [
    "# Assignment 12: Memory Optimization\n",
    "\n",
    "Reduce the memory usage of the transactions DataFrame to below 5MB."
   ]
  },
  {
   "cell_type": "code",
   "execution_count": null,
   "id": "6b389b1e",
   "metadata": {},
   "outputs": [],
   "source": [
    "transactions.head()"
   ]
  },
  {
   "cell_type": "code",
   "execution_count": null,
   "id": "0ebefdfb",
   "metadata": {},
   "outputs": [],
   "source": [
    "transactions.info(memory_usage=\"deep\")"
   ]
  },
  {
   "cell_type": "code",
   "execution_count": null,
   "id": "8a520fb2",
   "metadata": {},
   "outputs": [],
   "source": []
  },
  {
   "cell_type": "code",
   "execution_count": null,
   "id": "9cccb5d8",
   "metadata": {},
   "outputs": [],
   "source": []
  },
  {
   "cell_type": "code",
   "execution_count": null,
   "id": "c4c1b08e",
   "metadata": {},
   "outputs": [],
   "source": []
  },
  {
   "cell_type": "code",
   "execution_count": null,
   "id": "078bef01",
   "metadata": {},
   "outputs": [],
   "source": []
  }
 ],
 "metadata": {
  "kernelspec": {
   "display_name": "Python 3 (ipykernel)",
   "language": "python",
   "name": "python3"
  },
  "language_info": {
   "codemirror_mode": {
    "name": "ipython",
    "version": 3
   },
   "file_extension": ".py",
   "mimetype": "text/x-python",
   "name": "python",
   "nbconvert_exporter": "python",
   "pygments_lexer": "ipython3",
   "version": "3.10.9"
  }
 },
 "nbformat": 4,
 "nbformat_minor": 5
}
